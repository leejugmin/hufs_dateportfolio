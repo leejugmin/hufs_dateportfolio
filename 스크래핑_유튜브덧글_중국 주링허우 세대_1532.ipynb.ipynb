{
  "nbformat": 4,
  "nbformat_minor": 0,
  "metadata": {
    "colab": {
      "name": "스크래핑_유튜브덧글.ipynb",
      "provenance": [],
      "collapsed_sections": [],
      "toc_visible": true,
      "include_colab_link": true
    },
    "kernelspec": {
      "name": "python3",
      "display_name": "Python 3"
    }
  },
  "cells": [
    {
      "cell_type": "markdown",
      "metadata": {
        "id": "view-in-github",
        "colab_type": "text"
      },
      "source": [
        "<a href=\"https://colab.research.google.com/github/leejugmin/hufs_dateportfolio/blob/main/%EC%8A%A4%ED%81%AC%EB%9E%98%ED%95%91_%EC%9C%A0%ED%8A%9C%EB%B8%8C%EB%8D%A7%EA%B8%80_%EC%A4%91%EA%B5%AD%20%EC%A3%BC%EB%A7%81%ED%97%88%EC%9A%B0%20%EC%84%B8%EB%8C%80_1532.ipynb.ipynb\" target=\"_parent\"><img src=\"https://colab.research.google.com/assets/colab-badge.svg\" alt=\"Open In Colab\"/></a>"
      ]
    },
    {
      "cell_type": "markdown",
      "metadata": {
        "id": "yZNz_m4--yQ6"
      },
      "source": [
        "# 유튜브 덧글 데이터 가져오기_중국 주링허우 세대_1532"
      ]
    },
    {
      "cell_type": "markdown",
      "metadata": {
        "id": "ycAY4g96-wC8"
      },
      "source": [
        "- 참고:\n",
        "  - [Using Selenium with Google Colaboratory https://darektidwell.com/using-selenium-with-google-colaboratory/](https://darektidwell.com/using-selenium-with-google-colaboratory/)\n",
        "  - [https://stackoverflow.com/questions/56829470/selenium-google-colab-error-chromedriver-executable-needs-to-be-in-path](https://stackoverflow.com/questions/56829470/selenium-google-colab-error-chromedriver-executable-needs-to-be-in-path)"
      ]
    },
    {
      "cell_type": "markdown",
      "metadata": {
        "id": "1z0AH8fSZcyF"
      },
      "source": [
        "## like 포함 수집"
      ]
    },
    {
      "cell_type": "code",
      "metadata": {
        "id": "asP-O4cBZfLL",
        "colab": {
          "base_uri": "https://localhost:8080/"
        },
        "outputId": "b70dd610-9fa2-4237-cba6-ee5a850f2b7f"
      },
      "source": [
        "import sys\n",
        "\n",
        "# install chromium, its driver, and selenium\n",
        "if 'google.colab' in sys.modules:\n",
        "    !apt-get update\n",
        "    !apt install chromium-chromedriver\n",
        "    !cp /usr/lib/chromium-browser/chromedriver /usr/bin\n",
        "    !pip install selenium\n",
        "\n",
        "# set options to be headless, ..\n",
        "import time\n",
        "from selenium import webdriver\n",
        "from selenium.webdriver.common.by import By\n",
        "from selenium.webdriver.common.keys import Keys\n",
        "from selenium.webdriver.support.ui import WebDriverWait\n",
        "from selenium.webdriver.support import expected_conditions as EC\n",
        "\n",
        "options = webdriver.ChromeOptions()\n",
        "options.add_argument('--headless')\n",
        "options.add_argument('--no-sandbox')\n",
        "options.add_argument('--disable-dev-shm-usage')\n"
      ],
      "execution_count": 3,
      "outputs": [
        {
          "output_type": "stream",
          "text": [
            "\r0% [Working]\r            \rHit:1 https://cloud.r-project.org/bin/linux/ubuntu bionic-cran40/ InRelease\n",
            "\r0% [Connecting to archive.ubuntu.com (91.189.88.152)] [Waiting for headers] [Co\r                                                                               \rHit:2 http://security.ubuntu.com/ubuntu bionic-security InRelease\n",
            "\r                                                                               \rIgn:3 https://developer.download.nvidia.com/compute/cuda/repos/ubuntu1804/x86_64  InRelease\n",
            "\r0% [Connecting to archive.ubuntu.com (91.189.88.152)] [Connecting to ppa.launch\r0% [1 InRelease gpgv 3,626 B] [Connecting to archive.ubuntu.com (91.189.88.152)\r                                                                               \rIgn:4 https://developer.download.nvidia.com/compute/machine-learning/repos/ubuntu1804/x86_64  InRelease\n",
            "\r                                                                               \r0% [1 InRelease gpgv 3,626 B] [Waiting for headers] [Waiting for headers]\r                                                                         \rHit:5 https://developer.download.nvidia.com/compute/cuda/repos/ubuntu1804/x86_64  Release\n",
            "Hit:6 https://developer.download.nvidia.com/compute/machine-learning/repos/ubuntu1804/x86_64  Release\n",
            "Get:7 http://ppa.launchpad.net/c2d4u.team/c2d4u4.0+/ubuntu bionic InRelease [15.9 kB]\n",
            "Hit:8 http://archive.ubuntu.com/ubuntu bionic InRelease\n",
            "Hit:9 http://archive.ubuntu.com/ubuntu bionic-updates InRelease\n",
            "Hit:10 http://archive.ubuntu.com/ubuntu bionic-backports InRelease\n",
            "Hit:11 http://ppa.launchpad.net/graphics-drivers/ppa/ubuntu bionic InRelease\n",
            "Get:14 http://ppa.launchpad.net/c2d4u.team/c2d4u4.0+/ubuntu bionic/main Sources [1,688 kB]\n",
            "Get:15 http://ppa.launchpad.net/c2d4u.team/c2d4u4.0+/ubuntu bionic/main amd64 Packages [864 kB]\n",
            "Fetched 2,568 kB in 3s (795 kB/s)\n",
            "Reading package lists... Done\n",
            "Reading package lists... Done\n",
            "Building dependency tree       \n",
            "Reading state information... Done\n",
            "chromium-chromedriver is already the newest version (86.0.4240.198-0ubuntu0.18.04.1).\n",
            "0 upgraded, 0 newly installed, 0 to remove and 24 not upgraded.\n",
            "cp: '/usr/lib/chromium-browser/chromedriver' and '/usr/bin/chromedriver' are the same file\n",
            "Requirement already satisfied: selenium in /usr/local/lib/python3.6/dist-packages (3.141.0)\n",
            "Requirement already satisfied: urllib3 in /usr/local/lib/python3.6/dist-packages (from selenium) (1.24.3)\n"
          ],
          "name": "stdout"
        }
      ]
    },
    {
      "cell_type": "code",
      "metadata": {
        "id": "Gq2OvAGYZgkK"
      },
      "source": [
        "import pandas as pd   \n",
        "\n",
        "c = []\n",
        "n = []\n",
        "l = []\n",
        "\n",
        "with webdriver.Chrome('chromedriver',options=options) as driver:\n",
        "    wait = WebDriverWait(driver,15)\n",
        "    driver.get(\"https://www.youtube.com/watch?v=JnL4BTsh6ZI\") ## 대상 유튜브 주소 입력!\n",
        "\n",
        "    for item in range(1532): ## 수집량 입력 --> 숫자를 늘리면 더 많은 데이터 수집 가능\n",
        "        wait.until(EC.visibility_of_element_located((By.TAG_NAME, \"body\"))).send_keys(Keys.END)\n",
        "        #time.sleep(15)\n",
        "    for nick in wait.until(EC.presence_of_all_elements_located((By.CSS_SELECTOR, \"#comment #author-text\"))):\n",
        "        #print(nick.text) \n",
        "        n.append(nick.text)\n",
        "    for comment in wait.until(EC.presence_of_all_elements_located((By.CSS_SELECTOR, \"#comment #content-text\"))):\n",
        "        #print(comment.text)\n",
        "        c.append(comment.text)\n",
        "    for like in wait.until(EC.presence_of_all_elements_located((By.CSS_SELECTOR, \"#comment #vote-count-middle\"))):\n",
        "        #print(like.text)  \n",
        "        l.append(like.text)\n",
        "\n",
        "text = pd.DataFrame(c, columns=['text'])\n",
        "nick = pd.DataFrame(n, columns=['nick'])\n",
        "like = pd.DataFrame(l, columns=['likes'])\n",
        "결과 = pd.concat([text,like], axis=1)"
      ],
      "execution_count": 4,
      "outputs": []
    },
    {
      "cell_type": "code",
      "metadata": {
        "id": "yHMR3PpjZppa",
        "colab": {
          "base_uri": "https://localhost:8080/",
          "height": 419
        },
        "outputId": "1e7f71b5-86b1-4706-c78c-2e6823766327"
      },
      "source": [
        "결과"
      ],
      "execution_count": 5,
      "outputs": [
        {
          "output_type": "execute_result",
          "data": {
            "text/html": [
              "<div>\n",
              "<style scoped>\n",
              "    .dataframe tbody tr th:only-of-type {\n",
              "        vertical-align: middle;\n",
              "    }\n",
              "\n",
              "    .dataframe tbody tr th {\n",
              "        vertical-align: top;\n",
              "    }\n",
              "\n",
              "    .dataframe thead th {\n",
              "        text-align: right;\n",
              "    }\n",
              "</style>\n",
              "<table border=\"1\" class=\"dataframe\">\n",
              "  <thead>\n",
              "    <tr style=\"text-align: right;\">\n",
              "      <th></th>\n",
              "      <th>text</th>\n",
              "      <th>likes</th>\n",
              "    </tr>\n",
              "  </thead>\n",
              "  <tbody>\n",
              "    <tr>\n",
              "      <th>0</th>\n",
              "      <td>다 도둑질해서 한것  \\n중공엔 어떠한 기업 매각하면 안된다  기업들도 철저히 기술...</td>\n",
              "      <td>24</td>\n",
              "    </tr>\n",
              "    <tr>\n",
              "      <th>1</th>\n",
              "      <td>중국은 이웃이지안 특별히 경계 해야한다 이놈들은 뒷통수 까는 놈들이다</td>\n",
              "      <td>33</td>\n",
              "    </tr>\n",
              "    <tr>\n",
              "      <th>2</th>\n",
              "      <td>공산당에게 세뇌당한 젊은이들은 낮은 도덕심, 이기적인 태도만 있는 괴물들로 변함. ...</td>\n",
              "      <td>8</td>\n",
              "    </tr>\n",
              "    <tr>\n",
              "      <th>3</th>\n",
              "      <td>남의 기술 훔치고 일대일로라면서 남의 나라 이권 모두 뺏어오고..그런데 이런걸 주링...</td>\n",
              "      <td>22</td>\n",
              "    </tr>\n",
              "    <tr>\n",
              "      <th>4</th>\n",
              "      <td>웬지 중국 선전장 같은 느낌이 듭니디. \\n우리 젊은이를 조금만 더 밀어 줍시다, ...</td>\n",
              "      <td>51</td>\n",
              "    </tr>\n",
              "    <tr>\n",
              "      <th>...</th>\n",
              "      <td>...</td>\n",
              "      <td>...</td>\n",
              "    </tr>\n",
              "    <tr>\n",
              "      <th>962</th>\n",
              "      <td>중국 젊은이들의 관점과 도전의식 등이 좋아 보입니다.  그런데 중국의 구조적인 문제...</td>\n",
              "      <td></td>\n",
              "    </tr>\n",
              "    <tr>\n",
              "      <th>963</th>\n",
              "      <td>중국인은 목적을위해서 수단방법, 도덕, 규제도 무시한다.. 중국인이 자주하는말이 우...</td>\n",
              "      <td>1</td>\n",
              "    </tr>\n",
              "    <tr>\n",
              "      <th>964</th>\n",
              "      <td>댓글다는 사람들 중국에한번가보시죠 우물안 개구리되지말고</td>\n",
              "      <td>10</td>\n",
              "    </tr>\n",
              "    <tr>\n",
              "      <th>965</th>\n",
              "      <td>중국은 오년안에 분열될것이다.</td>\n",
              "      <td>2</td>\n",
              "    </tr>\n",
              "    <tr>\n",
              "      <th>966</th>\n",
              "      <td>덧글 전부 조선족인듯ㅋㅂㄱ</td>\n",
              "      <td>3</td>\n",
              "    </tr>\n",
              "  </tbody>\n",
              "</table>\n",
              "<p>967 rows × 2 columns</p>\n",
              "</div>"
            ],
            "text/plain": [
              "                                                  text likes\n",
              "0    다 도둑질해서 한것  \\n중공엔 어떠한 기업 매각하면 안된다  기업들도 철저히 기술...    24\n",
              "1               중국은 이웃이지안 특별히 경계 해야한다 이놈들은 뒷통수 까는 놈들이다    33\n",
              "2    공산당에게 세뇌당한 젊은이들은 낮은 도덕심, 이기적인 태도만 있는 괴물들로 변함. ...     8\n",
              "3    남의 기술 훔치고 일대일로라면서 남의 나라 이권 모두 뺏어오고..그런데 이런걸 주링...    22\n",
              "4    웬지 중국 선전장 같은 느낌이 듭니디. \\n우리 젊은이를 조금만 더 밀어 줍시다, ...    51\n",
              "..                                                 ...   ...\n",
              "962  중국 젊은이들의 관점과 도전의식 등이 좋아 보입니다.  그런데 중국의 구조적인 문제...      \n",
              "963  중국인은 목적을위해서 수단방법, 도덕, 규제도 무시한다.. 중국인이 자주하는말이 우...     1\n",
              "964                     댓글다는 사람들 중국에한번가보시죠 우물안 개구리되지말고    10\n",
              "965                                   중국은 오년안에 분열될것이다.     2\n",
              "966                                     덧글 전부 조선족인듯ㅋㅂㄱ     3\n",
              "\n",
              "[967 rows x 2 columns]"
            ]
          },
          "metadata": {
            "tags": []
          },
          "execution_count": 5
        }
      ]
    },
    {
      "cell_type": "code",
      "metadata": {
        "id": "J4CTM0XYZyT6"
      },
      "source": [
        "결과.to_csv('유튜브덧글+like.csv', header='true', encoding='utf-8')"
      ],
      "execution_count": 8,
      "outputs": []
    }
  ]
}